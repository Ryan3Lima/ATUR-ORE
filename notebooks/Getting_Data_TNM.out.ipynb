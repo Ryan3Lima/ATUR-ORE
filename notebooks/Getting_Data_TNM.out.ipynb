{
 "cells": [
  {
   "cell_type": "markdown",
   "metadata": {},
   "source": [
    "# Getting Data from the National Map"
   ],
   "id": "441a463f-e59b-4c56-9de9-0bd57531864a"
  },
  {
   "cell_type": "markdown",
   "metadata": {},
   "source": [
    "## Overview"
   ],
   "id": "7210f3f4-64d3-4465-b8ef-bae2926b4462"
  },
  {
   "cell_type": "markdown",
   "metadata": {},
   "source": [
    "## Introduction"
   ],
   "id": "c56fb7b7-c8b2-4551-8533-f4eb443814cc"
  },
  {
   "cell_type": "markdown",
   "metadata": {},
   "source": [
    "\\*\\*Uncovering the gaps in manage aquifer recharge for sustainabile groundwater: A focus on hillslopes and mountains"
   ],
   "id": "f12dc8ca-5704-46d1-9346-c5db0a9c8d38"
  }
 ],
 "nbformat": 4,
 "nbformat_minor": 5,
 "metadata": {}
}
