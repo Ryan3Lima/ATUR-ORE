{
 "cells": [
  {
   "cell_type": "raw",
   "metadata": {},
   "source": [
    "---\n",
    "title: State-wide analysis of suitable areas for Opportunistic Recharge Enhacement on Roads and Hillslopes of Arizona\n",
    "author:\n",
    "  - name:\n",
    "      given: Ryan E.\n",
    "      family: Lima\n",
    "    degrees:\n",
    "        - PhD\n",
    "    orcid: 0000-0002-5352-7215\n",
    "    corresponding: true\n",
    "    email: ryan.lima@nau.edu\n",
    "    roles:\n",
    "      - Investigation    \n",
    "      - Software\n",
    "      - Visualization\n",
    "    affiliations:\n",
    "      - Northern Arizona University\n",
    "      - School of Informatics, Computing & Cyber Systems\n",
    "      - School of Earth and Sustainability\n",
    "  - name: Abraham E. Springer\n",
    "    degrees:\n",
    "        - PhD\n",
    "    corresponding: false\n",
    "    roles: []\n",
    "    affiliations:\n",
    "      - Northern Arizona University\n",
    "      - School of Earth and Sustainability\n",
    "  - name: Temuulen Tsagaan Sankey\n",
    "    degrees:\n",
    "        - PhD\n",
    "    corresponding: false\n",
    "    roles: []\n",
    "    affiliations:\n",
    "      - Northern Arizona University\n",
    "      - School of Informatics, Computing & Cyber Systems\n",
    "keywords:\n",
    "  - Road-MAR\n",
    "  - Hillslope-MAR\n",
    "  - Mountain Front Recharge (MFR)\n",
    "  - Mountain Block Recharge (MBR)\n",
    "  - Recharge\n",
    "  - Arizona\n",
    "  - Opportunistic Recharge Enhancement\n",
    "abstract: |\n",
    "    None\n",
    "  \n",
    "plain-language-summary: |\n",
    "    None\n",
    "key-points:\n",
    "  - Key point 1\n",
    "  - Key point 2 \n",
    "date: last-modified\n",
    "bibliography: references.bib\n",
    "citation:\n",
    "  container-title: Journal Name\n",
    "number-sections: true\n",
    "---"
   ]
  },
  {
   "cell_type": "markdown",
   "metadata": {
    "tags": []
   },
   "source": [
    "## Literature Reviewed {#sec-lit}"
   ]
  },
  {
   "cell_type": "markdown",
   "metadata": {},
   "source": [
    "**Uncovering the gaps in manage aquifer recharge for sustainabile groundwater: A focus on hillslopes and mountains** [@meles_uncovering_2024]\n",
    "\n",
    "*Key findings:*\n",
    "\n",
    "> 1. This paper recommends using mountain/hillslope managed aquifer recharge Hillslope-MAR and water chaptured by roadside channel networks as a potential new source and setting for MAR applications.\n",
    "> 2. Suggests that road system-based managed aquifer recharge (Road-MAR) could have high potential for enhancing recharge through things like infiltrations channels.\n",
    "> 3. Roads on mountain sides and hillslopes passing through areas with high concentrations of lineaments could be suitable areas\n",
    "\n",
    "*Keywords:* \n",
    "\n",
    "Managed Aquifer Recharge (MAR); Attenuation Zone, Groundwater, Lineaments/Faults, Hillslope-MAR, Road-MAR"
   ]
  },
  {
   "cell_type": "markdown",
   "metadata": {},
   "source": [
    "**Mountain-Block Recharge: A Review of Current Understanding** [@markovich_mountainblock_2019]\n",
    "\n",
    "*Key findings:*\n",
    "\n",
    "> 1. Mountain-block recharge confirmed as important source of recharge to basin aquifers in a variety of climatic and geologic settings globally.\n",
    "> 2. Recent work advanced the understanding of fundamental controls on mountain-block recharge ans somewhat improved methods for characterization.\n",
    "> 3. Future research should aim to acquire subsurface data in mountain blocks and at the mountain front.\n",
    "\n",
    "*Keywords:* \n",
    "\n",
    "Mountain Front Recharge (MFR), Mountain Block Recharge (MBR), Aquifer Recharge, Review"
   ]
  },
  {
   "cell_type": "markdown",
   "metadata": {},
   "source": [
    "**Mountain-block hydrology and mountain-front recharge** [@hogan_mountain-block_2004]\n",
    "\n",
    "*Key findings:*\n",
    "\n",
    "> 1. Explains the general processes at work in Mountain fronts and Mountain blocks\n",
    "> 2. Provides practical advice for delineating the mountain front and the mountain block\n",
    "\n",
    "*Keywords:* \n",
    "\n",
    "Mountain Front Zone, Mountain Block"
   ]
  },
  {
   "cell_type": "markdown",
   "metadata": {},
   "source": [
    "**Title** [citation]\n",
    "\n",
    "*Key findings:*\n",
    "\n",
    "> 1. text\n",
    "\n",
    "*Keywords:* "
   ]
  },
  {
   "cell_type": "markdown",
   "metadata": {},
   "source": [
    "## Notes\n",
    "\n",
    "> Menbru Meles suggested including:\n",
    "    - Contributing areas for roadside channel segments\n",
    "    - slope and slope length to calculate the volume of runoff that passes through these systems\n",
    "\n",
    "> Question:\n",
    "\n",
    "If we remove overland flow or intercept shallow soil or groundwater flow how will it impact ecosystems downstream? In other words how do we ensure that the water we capture is not supporting some riparian ecosystem downstream that we are sacrificing to increase recharge deeper in the aquifer. \n",
    "\n"
   ]
  },
  {
   "cell_type": "markdown",
   "metadata": {},
   "source": [
    "## Data & Methods {#sec-data-methods}"
   ]
  },
  {
   "cell_type": "markdown",
   "metadata": {},
   "source": [
    "## Conclusion {#sec-conclusions}"
   ]
  },
  {
   "cell_type": "markdown",
   "metadata": {},
   "source": [
    "## Works Cited\n"
   ]
  },
  {
   "cell_type": "markdown",
   "metadata": {},
   "source": [
    "## References {.unnumbered}\n",
    "\n",
    ":::{#refs}\n",
    "\n",
    ":::"
   ]
  }
 ],
 "metadata": {
  "kernelspec": {
   "display_name": "Python 3 (ipykernel)",
   "language": "python",
   "name": "python3"
  },
  "language_info": {
   "codemirror_mode": {
    "name": "ipython",
    "version": 3
   },
   "file_extension": ".py",
   "mimetype": "text/x-python",
   "name": "python",
   "nbconvert_exporter": "python",
   "pygments_lexer": "ipython3",
   "version": "3.11.5"
  }
 },
 "nbformat": 4,
 "nbformat_minor": 4
}
